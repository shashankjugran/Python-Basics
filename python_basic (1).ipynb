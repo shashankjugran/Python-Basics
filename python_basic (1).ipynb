{
  "nbformat": 4,
  "nbformat_minor": 0,
  "metadata": {
    "colab": {
      "provenance": []
    },
    "kernelspec": {
      "name": "python3",
      "display_name": "Python 3"
    },
    "language_info": {
      "name": "python"
    }
  },
  "cells": [
    {
      "cell_type": "code",
      "source": [
        "\"\"\"  Theory\n",
        "1. What is Python, and why is it popular?\n",
        "- Python is a high-level, general-purpose programming language that is widely used across various fields. It is popular because it is easy to learn and use, highly readable, and supported by a vast collection of libraries and frameworks that make development faster and more efficient.\n",
        "\n",
        "2. What is an interpreter in Python?\n",
        "- An interpreter in Python is a program that executes code line by line instead of compiling the whole program at once.\n",
        "\n",
        "3. What are pre-defined keywords in Python?\n",
        "- Predefined keywords in Python are reserved words that have special meaning and are used to perform specific tasks. For example if, else, while, for etc.\n",
        "\n",
        "4. Can keywords be used as variable names?\n",
        "- Keywords should not be used as variable names or identifiers because they are reserved words in Python. Each keyword has a predefined meaning and performs a specific task in the program. Using them as variables will cause errors or disrupt the program’s execution.\n",
        "\n",
        "5. What is mutability in Python?\n",
        "- Mutability in Python refers to the ability of an object to be changed after it is created. If the content of a data structure can be modified without changing its identity, it is called mutable; otherwise, it is immutable. For example, lists are mutable, while tuples and strings are immutable.\n",
        "\n",
        "6. Why are lists mutable, but tuples are immutable?\n",
        "- Lists are mutable and tuples are immutable in Python because of their design purpose. Lists are meant to store collections of items that may need modification (adding, removing, updating), so they are mutable. Tuples, on the other hand, are designed to store fixed collections of items that should not change, so they are immutable. This distinction helps Python improve memory management, speed, and data safety.\n",
        "\n",
        "7. What is the difference between “==” and “is” operators in Python?\n",
        "- “==” in Python is a comparison operator used to check whether the values of two objects are equal. The “is” operator, on the other hand, checks whether two objects refer to the same memory location.\n",
        "\n",
        "8. What are logical operators in Python?\n",
        "- Logical operators in Python are used to combine conditional statements and return a Boolean value.\n",
        "\n",
        "9. What is type casting in Python?\n",
        "- Type casting in Python refers to converting one data type into another. It allows you to change data from one type (like string, float, integer, or boolean) into another using built-in functions.\n",
        "\n",
        "10. What is the difference between implicit and explicit type casting?\n",
        "- Implicit type casting – Python automatically converts one data type to another without user intervention.\n",
        "- Explicit type casting – Also called type casting. Here, the programmer manually changes the data type using functions like (str, int, float, bool) etc.\n",
        "\n",
        "11. What is the purpose of conditional statements in Python?\n",
        "- Conditional statements in Python are used to make decisions in a program. They allow the program to execute certain blocks of code depending on whether a condition is True or False, thus giving specific output according to different scenarios.\n",
        "\n",
        "12. How does the elif statement work?\n",
        "- The elif statement in Python stands for else if. It is used when we need to check multiple conditions. After the initial if statement, one or more elif statements can be added to test additional conditions. It is optional and helps avoid writing multiple nested if-else statements.\n",
        "\n",
        "13. What is the difference between for and while loops?\n",
        "- A for loop is used when you know in advance how many times the loop should run. A while loop is used when the loop needs to run until a certain condition is met, which may not be known before.\n",
        "\n",
        "14. Describe a scenario where a while loop is more suitable than a for loop?\n",
        "- A for loop is used when you know in advance how many times the loop should run. However, in real-life scenarios, we often don’t know the exact number of iterations and only know the condition under which the loop should continue. In such cases, a while loop is used, which runs as long as a specified condition is true.\n",
        "\"\"\""
      ],
      "metadata": {
        "colab": {
          "base_uri": "https://localhost:8080/"
        },
        "id": "XMvQLR8odgzR",
        "outputId": "d970edae-9338-4d2d-b05c-f9e1d5815cd9"
      },
      "execution_count": null,
      "outputs": [
        {
          "output_type": "stream",
          "name": "stdout",
          "text": [
            "  \n",
            "1. What is Python, and why is it popular?  \n",
            "- Python is a high-level, general-purpose programming language that is widely used across various fields. It is popular because it is easy to learn and use, highly readable, and supported by a vast collection of libraries and frameworks that make development faster and more efficient.  \n",
            "\n",
            "2. What is an interpreter in Python?  \n",
            "- An interpreter in Python is a program that executes code line by line instead of compiling the whole program at once.  \n",
            "\n",
            "3. What are pre-defined keywords in Python?  \n",
            "- Predefined keywords in Python are reserved words that have special meaning and are used to perform specific tasks. For example if, else, while, for etc.  \n",
            "\n",
            "4. Can keywords be used as variable names?  \n",
            "- Keywords should not be used as variable names or identifiers because they are reserved words in Python. Each keyword has a predefined meaning and performs a specific task in the program. Using them as variables will cause errors or disrupt the program’s execution.  \n",
            "\n",
            "5. What is mutability in Python?  \n",
            "- Mutability in Python refers to the ability of an object to be changed after it is created. If the content of a data structure can be modified without changing its identity, it is called mutable; otherwise, it is immutable. For example, lists are mutable, while tuples and strings are immutable.  \n",
            "\n",
            "6. Why are lists mutable, but tuples are immutable?  \n",
            "- Lists are mutable and tuples are immutable in Python because of their design purpose. Lists are meant to store collections of items that may need modification (adding, removing, updating), so they are mutable. Tuples, on the other hand, are designed to store fixed collections of items that should not change, so they are immutable. This distinction helps Python improve memory management, speed, and data safety.  \n",
            "\n",
            "7. What is the difference between “==” and “is” operators in Python?  \n",
            "- “==” in Python is a comparison operator used to check whether the values of two objects are equal. The “is” operator, on the other hand, checks whether two objects refer to the same memory location.  \n",
            "\n",
            "8. What are logical operators in Python?  \n",
            "- Logical operators in Python are used to combine conditional statements and return a Boolean value.  \n",
            "\n",
            "9. What is type casting in Python?  \n",
            "- Type casting in Python refers to converting one data type into another. It allows you to change data from one type (like string, float, integer, or boolean) into another using built-in functions.  \n",
            "\n",
            "10. What is the difference between implicit and explicit type casting?  \n",
            "- Implicit type casting – Python automatically converts one data type to another without user intervention.  \n",
            "- Explicit type casting – Also called type casting. Here, the programmer manually changes the data type using functions like (str, int, float, bool) etc.  \n",
            "\n",
            "11. What is the purpose of conditional statements in Python?  \n",
            "- Conditional statements in Python are used to make decisions in a program. They allow the program to execute certain blocks of code depending on whether a condition is True or False, thus giving specific output according to different scenarios.  \n",
            "\n",
            "12. How does the elif statement work?  \n",
            "- The elif statement in Python stands for else if. It is used when we need to check multiple conditions. After the initial if statement, one or more elif statements can be added to test additional conditions. It is optional and helps avoid writing multiple nested if-else statements.  \n",
            "\n",
            "13. What is the difference between for and while loops?  \n",
            "- A for loop is used when you know in advance how many times the loop should run. A while loop is used when the loop needs to run until a certain condition is met, which may not be known before.  \n",
            "\n",
            "14. Describe a scenario where a while loop is more suitable than a for loop?  \n",
            "- A for loop is used when you know in advance how many times the loop should run. However, in real-life scenarios, we often don’t know the exact number of iterations and only know the condition under which the loop should continue. In such cases, a while loop is used, which runs as long as a specified condition is true.  \n",
            "\n"
          ]
        }
      ]
    },
    {
      "cell_type": "code",
      "execution_count": null,
      "metadata": {
        "colab": {
          "base_uri": "https://localhost:8080/"
        },
        "id": "amZxDT6uTcf_",
        "outputId": "fef7fbb5-61c1-4e6d-8190-79443bf6a3de"
      },
      "outputs": [
        {
          "output_type": "stream",
          "name": "stdout",
          "text": [
            "Hello, World!\n"
          ]
        }
      ],
      "source": [
        "#Practical Questions\n",
        "#1- Write a Python program to print \"Hello, World!?\n",
        "print(\"Hello, World!\")"
      ]
    },
    {
      "cell_type": "code",
      "source": [
        "#2- Write a Python program that displays your name and age?\n",
        "name= \"shashank\"\n",
        "age = 21\n",
        "print(\"my name is\", name)\n",
        "print(\"my age is\", age)"
      ],
      "metadata": {
        "colab": {
          "base_uri": "https://localhost:8080/"
        },
        "id": "3uoSDl2sTyt7",
        "outputId": "ef8bf1fe-2dd2-4939-da84-d7935fb47a38"
      },
      "execution_count": null,
      "outputs": [
        {
          "output_type": "stream",
          "name": "stdout",
          "text": [
            "my name is shashank\n",
            "my age is 21\n"
          ]
        }
      ]
    },
    {
      "cell_type": "code",
      "source": [
        "#3- Write code to print all the pre-defined keywords in Python using the keyword library?\n",
        "import keyword\n",
        "print(keyword.kwlist)\n",
        "\n"
      ],
      "metadata": {
        "colab": {
          "base_uri": "https://localhost:8080/"
        },
        "id": "83alukMHUv6w",
        "outputId": "272f42c2-47f1-4888-fbee-b6b37a290113"
      },
      "execution_count": null,
      "outputs": [
        {
          "output_type": "stream",
          "name": "stdout",
          "text": [
            "['False', 'None', 'True', 'and', 'as', 'assert', 'async', 'await', 'break', 'class', 'continue', 'def', 'del', 'elif', 'else', 'except', 'finally', 'for', 'from', 'global', 'if', 'import', 'in', 'is', 'lambda', 'nonlocal', 'not', 'or', 'pass', 'raise', 'return', 'try', 'while', 'with', 'yield']\n"
          ]
        }
      ]
    },
    {
      "cell_type": "code",
      "source": [
        "#4-  Write a program that checks if a given word is a Python keyword?\n",
        "word = input(\"Enter a word to check: \")\n",
        "if keyword.iskeyword(word):\n",
        "    print(f\"'{word}' is a Python keyword.\")\n",
        "else:\n",
        "    print(f\"'{word}' is NOT a Python keyword.\")\n"
      ],
      "metadata": {
        "colab": {
          "base_uri": "https://localhost:8080/"
        },
        "id": "M7e_A8ciVqo8",
        "outputId": "6eb6ec12-5e81-47e3-f582-cfc46ce2c1ea"
      },
      "execution_count": null,
      "outputs": [
        {
          "output_type": "stream",
          "name": "stdout",
          "text": [
            "Enter a word to check: if\n",
            "'if' is a Python keyword.\n"
          ]
        }
      ]
    },
    {
      "cell_type": "code",
      "source": [
        "#5-  Create a list and tuple in Python, and demonstrate how attempting to change an element works differently\n",
        "#for each?\n",
        "my_list = [20,40,60,80]\n",
        "print(\"my_list\")\n",
        "\n",
        "# Changing an element in the list\n",
        "my_list[2] = 99\n",
        "print(\"my_list\")  # 60 → 99\n",
        "\n"
      ],
      "metadata": {
        "colab": {
          "base_uri": "https://localhost:8080/"
        },
        "id": "fyI-tpDLWjM5",
        "outputId": "ff97de48-9065-42c4-aa5f-49066d9df6d0"
      },
      "execution_count": null,
      "outputs": [
        {
          "output_type": "stream",
          "name": "stdout",
          "text": [
            "my_list\n",
            "Modified list: [20, 40, 99, 80]\n"
          ]
        }
      ]
    },
    {
      "cell_type": "code",
      "source": [
        "# Creating a tuple\n",
        "my_tuple = (10, 20, 30, 40)\n",
        "print(\"my_tuple\")\n",
        "\n",
        "# Attempting to change an element in the tuple\n",
        "my_tuple[2] = 99\n"
      ],
      "metadata": {
        "colab": {
          "base_uri": "https://localhost:8080/",
          "height": 193
        },
        "id": "qJlqqkzFXvXO",
        "outputId": "7570bc14-00ac-4252-d087-adaca6e23536"
      },
      "execution_count": null,
      "outputs": [
        {
          "output_type": "stream",
          "name": "stdout",
          "text": [
            "my_tuple\n"
          ]
        },
        {
          "output_type": "error",
          "ename": "TypeError",
          "evalue": "'tuple' object does not support item assignment",
          "traceback": [
            "\u001b[0;31m---------------------------------------------------------------------------\u001b[0m",
            "\u001b[0;31mTypeError\u001b[0m                                 Traceback (most recent call last)",
            "\u001b[0;32m/tmp/ipython-input-1137269426.py\u001b[0m in \u001b[0;36m<cell line: 0>\u001b[0;34m()\u001b[0m\n\u001b[1;32m      4\u001b[0m \u001b[0;34m\u001b[0m\u001b[0m\n\u001b[1;32m      5\u001b[0m \u001b[0;31m# Attempting to change an element in the tuple\u001b[0m\u001b[0;34m\u001b[0m\u001b[0;34m\u001b[0m\u001b[0m\n\u001b[0;32m----> 6\u001b[0;31m \u001b[0mmy_tuple\u001b[0m\u001b[0;34m[\u001b[0m\u001b[0;36m2\u001b[0m\u001b[0;34m]\u001b[0m \u001b[0;34m=\u001b[0m \u001b[0;36m99\u001b[0m\u001b[0;34m\u001b[0m\u001b[0;34m\u001b[0m\u001b[0m\n\u001b[0m",
            "\u001b[0;31mTypeError\u001b[0m: 'tuple' object does not support item assignment"
          ]
        }
      ]
    },
    {
      "cell_type": "code",
      "source": [
        "#6-  Write a function to demonstrate the behavior of mutable and immutable arguments?\n",
        "# Function to demonstrate mutable and immutable behavior\n",
        "def demo_args(number, my_list):\n",
        "    # Trying to change the immutable argument (number)\n",
        "    number = number + 10\n",
        "    print(\"Inside function, number =\", number)\n",
        "\n",
        "    # Changing the mutable argument (list)\n",
        "    my_list.append(100)\n",
        "    print(\"Inside function, list =\", my_list)\n",
        "\n",
        "# Immutable argument\n",
        "num = 5\n",
        "# Mutable argument\n",
        "lst = [1, 2, 3]\n",
        "\n",
        "print(\"Before function call:\")\n",
        "print(\"num =\", num)\n",
        "print(\"lst =\", lst)\n",
        "\n",
        "# Call the function\n",
        "demo_args(num, lst)\n",
        "\n",
        "print(\"\\nAfter function call:\")\n",
        "print(\"num =\", num)   # Immutable, stays same\n",
        "print(\"lst =\", lst)   # Mutable, changed\n"
      ],
      "metadata": {
        "colab": {
          "base_uri": "https://localhost:8080/"
        },
        "id": "zN_ctdB6YJvA",
        "outputId": "c9cc76fe-07a8-4397-cd46-39950b700a4d"
      },
      "execution_count": null,
      "outputs": [
        {
          "output_type": "stream",
          "name": "stdout",
          "text": [
            "Before function call:\n",
            "num = 5\n",
            "lst = [1, 2, 3]\n",
            "Inside function, number = 15\n",
            "Inside function, list = [1, 2, 3, 100]\n",
            "\n",
            "After function call:\n",
            "num = 5\n",
            "lst = [1, 2, 3, 100]\n"
          ]
        }
      ]
    },
    {
      "cell_type": "code",
      "source": [
        "#7- Write a program that performs basic arithmetic operations on two user-input numbers?\n",
        "user1= int(input(\"enter your number\"))\n",
        "user2= int(input(\"enter your number\"))\n",
        "print(\"Sum of the two numbers is:\", user1 + user2)\n"
      ],
      "metadata": {
        "colab": {
          "base_uri": "https://localhost:8080/"
        },
        "id": "4quxi1SXZa4G",
        "outputId": "1893971a-22d4-4d08-935d-e04888b4377d"
      },
      "execution_count": null,
      "outputs": [
        {
          "output_type": "stream",
          "name": "stdout",
          "text": [
            "enter your number10\n",
            "enter your number20\n",
            "Sum of the two numbers is: 30\n"
          ]
        }
      ]
    },
    {
      "cell_type": "code",
      "source": [
        "#8- Write a program to demonstrate the use of logical operators?\n",
        "\n",
        "# Taking two numbers as input\n",
        "a = int(input(\"Enter first number: \"))\n",
        "b = int(input(\"Enter second number: \"))\n",
        "\n",
        "# Using 'and' operator\n",
        "if a > 0 and b > 0:\n",
        "    print(\"Both numbers are positive\")\n",
        "\n"
      ],
      "metadata": {
        "colab": {
          "base_uri": "https://localhost:8080/"
        },
        "id": "T4gWXwTVakoi",
        "outputId": "b0119c12-92a2-4793-c8ca-ede080a54fb5"
      },
      "execution_count": null,
      "outputs": [
        {
          "output_type": "stream",
          "name": "stdout",
          "text": [
            "Enter first number: 10\n",
            "Enter second number: 10\n",
            "Both numbers are positive\n"
          ]
        }
      ]
    },
    {
      "cell_type": "code",
      "source": [
        "# Program to demonstrate logical operators in Python\n",
        "\n",
        "# Taking two numbers as input\n",
        "a = 10\n",
        "b = 20\n",
        "\n",
        "# Using 'or' operator\n",
        "if a > 0 or b > 0:\n",
        "    print(\"At least one number is positive\")\n",
        "\n"
      ],
      "metadata": {
        "colab": {
          "base_uri": "https://localhost:8080/"
        },
        "id": "Qh2mewXAbTlM",
        "outputId": "9cda2475-0175-479b-f7b4-8b73ffebb53a"
      },
      "execution_count": null,
      "outputs": [
        {
          "output_type": "stream",
          "name": "stdout",
          "text": [
            "At least one number is positive\n"
          ]
        }
      ]
    },
    {
      "cell_type": "code",
      "source": [
        "# Program to demonstrate logical operators in Python\n",
        "\n",
        "# Taking two numbers as input\n",
        "a = 50\n",
        "b = -50\n",
        "\n",
        "# Using 'not' operator\n",
        "if not(a > 0 and b > 0):\n",
        "    print(\"At least one number is not positive\")\n"
      ],
      "metadata": {
        "colab": {
          "base_uri": "https://localhost:8080/"
        },
        "id": "xBCUSrevb4Rp",
        "outputId": "6c2a1073-12b4-483a-e4b3-c0fa77797de7"
      },
      "execution_count": null,
      "outputs": [
        {
          "output_type": "stream",
          "name": "stdout",
          "text": [
            "At least one number is not positive\n"
          ]
        }
      ]
    },
    {
      "cell_type": "code",
      "source": [
        "#9- Write a Python program to convert user input from string to integer, float, and boolean types?\n",
        "user_input = input(\"Enter something: \")\n",
        "\n",
        "# Convert to integer\n",
        "int_value = int(user_input)\n",
        "print(\"Integer value:\", int_value)\n",
        "\n",
        "# Convert to float\n",
        "float_value = float(user_input)\n",
        "print(\"Float value:\", float_value)\n",
        "\n",
        "# Convert to boolean\n",
        "bool_value = bool(user_input)\n",
        "print(\"Boolean value:\", bool_value)\n",
        "\n"
      ],
      "metadata": {
        "colab": {
          "base_uri": "https://localhost:8080/"
        },
        "id": "cL59zg5ncFhA",
        "outputId": "36dcd529-f5b9-4f70-afb4-2e90a22fb18f"
      },
      "execution_count": null,
      "outputs": [
        {
          "output_type": "stream",
          "name": "stdout",
          "text": [
            "Enter something: 500\n",
            "Integer value: 500\n",
            "Float value: 500.0\n",
            "Boolean value: True\n"
          ]
        }
      ]
    },
    {
      "cell_type": "code",
      "source": [
        "#10- Write code to demonstrate type casting with list elements.\n",
        "my_list = [\"10\", \"20\", \"30\", \"40\"]\n",
        "print(\"list as string:\",my_list)\n",
        "\n",
        "# Convert each element to integer\n",
        "int_list = [int(my_list[0]), int(my_list[1]), int(my_list[2]), int(my_list[3])]\n",
        "print(\"List as integers:\", int_list)\n",
        "\n",
        "# Convert each element to float\n",
        "float_list = [float(my_list[0]), float(my_list[1]), float(my_list[2]), float(my_list[3])]\n",
        "print(\"List as floats:\", float_list)\n",
        "\n",
        "# Convert each element to boolean\n",
        "bool_list = [bool(my_list[0]), bool(my_list[1]), bool(my_list[2]), bool(my_list[3])]\n",
        "print(\"List as booleans:\", bool_list)\n",
        "\n"
      ],
      "metadata": {
        "colab": {
          "base_uri": "https://localhost:8080/"
        },
        "id": "R7UVewKWfFIH",
        "outputId": "4ec71dbb-84df-4ea4-b3a4-926b56e26e08"
      },
      "execution_count": null,
      "outputs": [
        {
          "output_type": "stream",
          "name": "stdout",
          "text": [
            "list as string: ['10', '20', '30', '40']\n",
            "List as integers: [10, 20, 30, 40]\n",
            "List as floats: [10.0, 20.0, 30.0, 40.0]\n",
            "List as booleans: [True, True, True, True]\n"
          ]
        }
      ]
    },
    {
      "cell_type": "code",
      "source": [
        "#11-  Write a program that checks if a number is positive, negative, or zero?\n",
        "num = float(input(\"Enter a number: \"))\n",
        "\n",
        "# Check the condition\n",
        "if num > 0:\n",
        "    print(\"The number is positive\")\n",
        "elif num < 0:\n",
        "    print(\"The number is negative\")\n",
        "else:\n",
        "    print(\"The number is zero\")\n"
      ],
      "metadata": {
        "colab": {
          "base_uri": "https://localhost:8080/"
        },
        "id": "FlPr1qm-gVF3",
        "outputId": "8a4e5c78-9c0d-4900-c7ef-73d57d7046f1"
      },
      "execution_count": null,
      "outputs": [
        {
          "output_type": "stream",
          "name": "stdout",
          "text": [
            "Enter a number: 12\n",
            "The number is positive\n"
          ]
        }
      ]
    },
    {
      "cell_type": "code",
      "source": [
        "#12-Write a for loop to print numbers from 1 to 10?\n",
        "i=0\n",
        "for i in range(1,11):\n",
        "  print(i)"
      ],
      "metadata": {
        "colab": {
          "base_uri": "https://localhost:8080/"
        },
        "id": "L88yK1P-g_cM",
        "outputId": "ff05e6b9-a8d8-4c3f-bd0e-3dd77baf5567"
      },
      "execution_count": null,
      "outputs": [
        {
          "output_type": "stream",
          "name": "stdout",
          "text": [
            "1\n",
            "2\n",
            "3\n",
            "4\n",
            "5\n",
            "6\n",
            "7\n",
            "8\n",
            "9\n",
            "10\n"
          ]
        }
      ]
    },
    {
      "cell_type": "code",
      "source": [
        "#13-Write a Python program to find the sum of all even numbers between 1 and 50.\n",
        "sum_even = 0\n",
        "\n",
        "# Loop through numbers from 1 to 50\n",
        "for i in range(1, 51):\n",
        "    if i % 2 == 0:       # Check if the number is even\n",
        "        sum_even += i    # Add it to sum\n",
        "\n",
        "print(\"The sum of all even numbers from 1 to 50 is:\", sum_even)\n"
      ],
      "metadata": {
        "colab": {
          "base_uri": "https://localhost:8080/"
        },
        "id": "aB-O69x2huAk",
        "outputId": "f369bd34-d0d8-4724-da86-d49d4298b291"
      },
      "execution_count": null,
      "outputs": [
        {
          "output_type": "stream",
          "name": "stdout",
          "text": [
            "The sum of all even numbers from 1 to 50 is: 650\n"
          ]
        }
      ]
    },
    {
      "cell_type": "code",
      "source": [
        "#14-Write a program to reverse a string using a while loop.?\n",
        "\n",
        "text = input(\"Enter a string: \")\n",
        "\n",
        "\n",
        "reversed_text = \"\"\n",
        "index = len(text) - 1\n",
        "\n",
        "while index >= 0:\n",
        "    reversed_text += text[index]\n",
        "    index -= 1\n",
        "\n",
        "print(\"Reversed string:\", reversed_text)\n"
      ],
      "metadata": {
        "colab": {
          "base_uri": "https://localhost:8080/"
        },
        "id": "gYRfv4Z8ix3F",
        "outputId": "9a36666d-a69c-4cdc-88ce-8f5e04f953fb"
      },
      "execution_count": null,
      "outputs": [
        {
          "output_type": "stream",
          "name": "stdout",
          "text": [
            "Enter a string: shashank\n",
            "Reversed string: knahsahs\n"
          ]
        }
      ]
    },
    {
      "cell_type": "code",
      "source": [
        "#15- Write a Python program to calculate the factorial of a number provided by the user using a while loop?\n",
        "\n",
        "num = int(input(\"Enter a number: \"))\n",
        "factorial = 1\n",
        "i = 1\n",
        "while i <= num:\n",
        "    factorial *= i\n",
        "    i += 1\n",
        "print(f\"The factorial of {num} is {factorial}\")\n"
      ],
      "metadata": {
        "colab": {
          "base_uri": "https://localhost:8080/"
        },
        "id": "m1Ciwi6MjbWx",
        "outputId": "d179675c-28a2-4c66-85d6-3ae6a85585bd"
      },
      "execution_count": null,
      "outputs": [
        {
          "output_type": "stream",
          "name": "stdout",
          "text": [
            "Enter a number: 5\n",
            "The factorial of 5 is 120\n"
          ]
        }
      ]
    }
  ]
}